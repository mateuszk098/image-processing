{
 "cells": [
  {
   "cell_type": "code",
   "execution_count": 1,
   "metadata": {},
   "outputs": [],
   "source": [
    "import cv2 as cv\n",
    "import matplotlib.pyplot as plt\n",
    "import numpy as np"
   ]
  },
  {
   "cell_type": "markdown",
   "metadata": {},
   "source": [
    "### **1.**"
   ]
  },
  {
   "cell_type": "markdown",
   "metadata": {},
   "source": [
    "Create a program that (1) reads frames from a video, (2) turns the result to grayscale,\n",
    "and (3) performs Canny edge detection on the image. Display all three stages of processing in one image."
   ]
  },
  {
   "cell_type": "code",
   "execution_count": 18,
   "metadata": {},
   "outputs": [],
   "source": [
    "cap = cv.VideoCapture(\"./assets/video.mp4\")\n",
    "FPS = int(cap.get(cv.CAP_PROP_FPS))\n",
    "\n",
    "while cap.isOpened():\n",
    "    success, frame = cap.read()\n",
    "    if not success:\n",
    "        break\n",
    "\n",
    "    gray = cv.cvtColor(cv.cvtColor(frame, cv.COLOR_BGR2GRAY), cv.COLOR_GRAY2BGR)\n",
    "    edges = cv.cvtColor(cv.Canny(gray, 100, 200), cv.COLOR_GRAY2BGR)\n",
    "    full = cv.vconcat((frame, gray, edges))\n",
    "\n",
    "    cv.imshow(\"Video\", cv.resize(full, None, fx=0.25, fy=0.25))\n",
    "    if cv.waitKey(FPS) == ord(\"q\"):\n",
    "        break\n",
    "\n",
    "cap.release()\n",
    "cv.destroyAllWindows()"
   ]
  },
  {
   "cell_type": "markdown",
   "metadata": {},
   "source": [
    "### **2.**"
   ]
  },
  {
   "cell_type": "markdown",
   "metadata": {},
   "source": [
    "Create a program that reads in and displays an image. When the user’s mouse clicks\n",
    "on the image, read in the corresponding pixel (blue, green, red) values and write\n",
    "those values as text to the screen at the mouse location."
   ]
  },
  {
   "cell_type": "code",
   "execution_count": 19,
   "metadata": {},
   "outputs": [],
   "source": [
    "image = cv.imread(\"./assets/cat.jpg\", cv.IMREAD_COLOR)\n",
    "\n",
    "win = \"Image\"\n",
    "cv.namedWindow(win, cv.WINDOW_AUTOSIZE)\n",
    "\n",
    "\n",
    "def on_click(event, x, y, *_):\n",
    "    if event == cv.EVENT_LBUTTONDOWN:\n",
    "        bgr = image[y, x]\n",
    "        cv.putText(image, f\"{bgr}\", (x, y), cv.FONT_HERSHEY_SIMPLEX, 0.75, (255, 255, 255), 2, cv.LINE_AA)\n",
    "\n",
    "\n",
    "cv.setMouseCallback(win, on_click)\n",
    "\n",
    "while True:\n",
    "    cv.imshow(win, image)\n",
    "    if cv.waitKey(1) == ord(\"q\"):\n",
    "        break\n",
    "\n",
    "cv.destroyAllWindows()"
   ]
  },
  {
   "cell_type": "markdown",
   "metadata": {},
   "source": [
    "### **3.**"
   ]
  },
  {
   "cell_type": "markdown",
   "metadata": {},
   "source": [
    "Allow the user to select a rectangular region in the image by drawing a rectangle\n",
    "with the mouse button held down, and highlight the region when the mouse\n",
    "button is released. Be careful to save an image copy in memory so that your\n",
    "drawing into the image does not destroy the original values there. The next\n",
    "mouse click should start the process all over again from the original image.\n",
    "\n",
    "In a separate window, use the drawing functions to draw a graph in blue, green,\n",
    "and red for how many pixels of each value were found in the selected box. This\n",
    "is the color histogram of that color region. Th e x-axis should be eight bins that\n",
    "represent pixel values falling within the ranges 0–31, 32–63, . . ., 223–255. The\n",
    "y-axis should be counts of the number of pixels that were found in that bin\n",
    "range. Do this for each color channel, BGR."
   ]
  },
  {
   "cell_type": "code",
   "execution_count": 20,
   "metadata": {},
   "outputs": [],
   "source": [
    "class RectDrawer:\n",
    "    def __init__(self, image):\n",
    "        self.image = image\n",
    "        self.image_copy = image.copy()\n",
    "        self.drawing = False\n",
    "        self.ix = -1\n",
    "        self.iy = -1\n",
    "        self.hist = np.zeros((300, 300, 3), np.uint8)\n",
    "\n",
    "    def draw_rect(self, event, x, y, *_):\n",
    "        if event == cv.EVENT_LBUTTONDOWN:\n",
    "            self.drawing, self.ix, self.iy = True, x, y\n",
    "        if event == cv.EVENT_MOUSEMOVE and self.drawing:\n",
    "            self.image_copy = self.image.copy()\n",
    "            cv.rectangle(self.image_copy, (self.ix, self.iy), (x, y), (255, 255, 255), thickness=2)\n",
    "        if event == cv.EVENT_LBUTTONUP:\n",
    "            self.drawing = False\n",
    "            if x < self.ix:\n",
    "                x, self.ix = self.ix, x\n",
    "            if y < self.iy:\n",
    "                y, self.iy = self.iy, y\n",
    "            roi = self.image[self.iy : y, self.ix : x]\n",
    "            self.hist = self.calc_hist(roi)\n",
    "            self.image = self.image_copy\n",
    "            cv.rectangle(self.image_copy, (self.ix, self.iy), (x, y), (255, 255, 255), thickness=2)\n",
    "\n",
    "    def calc_hist(self, roi):\n",
    "        fig = plt.figure()\n",
    "        colors = (\"b\", \"g\", \"r\")\n",
    "        for i, color in enumerate(colors):\n",
    "            hist = cv.calcHist([roi], [i], None, [64], [0, 256])\n",
    "            plt.plot(hist, color=color)\n",
    "        fig.canvas.draw()\n",
    "        data = np.frombuffer(fig.canvas.buffer_rgba(), dtype=np.uint8)  # type: ignore\n",
    "        cols, rows = fig.canvas.get_width_height()\n",
    "        data = data.reshape(rows, cols, 4)[..., :3]  # Extract only RGB channels\n",
    "        data = cv.cvtColor(data, cv.COLOR_RGB2BGR)\n",
    "        plt.close()\n",
    "        return data\n",
    "\n",
    "    def draw(self):\n",
    "        win1 = \"Image\"\n",
    "        win2 = \"Histogram\"\n",
    "\n",
    "        cv.namedWindow(win1, cv.WINDOW_AUTOSIZE)\n",
    "        cv.namedWindow(win2, cv.WINDOW_AUTOSIZE)\n",
    "        cv.setMouseCallback(win1, self.draw_rect)\n",
    "\n",
    "        while True:\n",
    "            cv.imshow(win1, self.image_copy)\n",
    "            cv.imshow(win2, self.hist)\n",
    "            if cv.waitKey(1) == ord(\"q\"):\n",
    "                break\n",
    "\n",
    "        cv.destroyAllWindows()\n",
    "\n",
    "\n",
    "image = cv.imread(\"./assets/cat.jpg\", cv.IMREAD_COLOR)\n",
    "drawer = RectDrawer(image)\n",
    "drawer.draw()"
   ]
  },
  {
   "cell_type": "markdown",
   "metadata": {},
   "source": [
    "### **4.**"
   ]
  },
  {
   "cell_type": "markdown",
   "metadata": {},
   "source": [
    "Make an application that reads and displays a video and is controlled by sliders.\n",
    "One slider will control the position within the video from start to end in 10 \n",
    "increments; another binary slider should control pause/unpause. Label both sliders\n",
    "appropriately."
   ]
  },
  {
   "cell_type": "code",
   "execution_count": 21,
   "metadata": {},
   "outputs": [],
   "source": [
    "cap = cv.VideoCapture(\"./assets/video.mp4\")\n",
    "FPS = int(cap.get(cv.CAP_PROP_FPS))\n",
    "FRAMES = int(cap.get(cv.CAP_PROP_FRAME_COUNT))\n",
    "\n",
    "\n",
    "win = \"Video\"\n",
    "cv.namedWindow(win, cv.WINDOW_AUTOSIZE)\n",
    "cv.createTrackbar(\"Frame\", win, 0, 10, lambda x: cap.set(cv.CAP_PROP_POS_FRAMES, int(x * FRAMES / 10)))  # type: ignore\n",
    "cv.createTrackbar(\"Grayscale\", win, 0, 1, lambda x: None)  # type: ignore\n",
    "\n",
    "while cap.isOpened():\n",
    "    success, frame = cap.read()\n",
    "    if not success:\n",
    "        break\n",
    "\n",
    "    if cv.getTrackbarPos(\"Grayscale\", win):\n",
    "        frame = cv.cvtColor(frame, cv.COLOR_BGR2GRAY)\n",
    "        frame = cv.cvtColor(frame, cv.COLOR_GRAY2BGR)\n",
    "\n",
    "    cv.imshow(win, cv.resize(frame, None, fx=0.25, fy=0.25))\n",
    "    if cv.waitKey(int(1000 / FPS)) == ord(\"q\"):\n",
    "        break\n",
    "\n",
    "cap.release()\n",
    "cv.destroyAllWindows()"
   ]
  }
 ],
 "metadata": {
  "kernelspec": {
   "display_name": "image-processing-venv",
   "language": "python",
   "name": "python3"
  },
  "language_info": {
   "codemirror_mode": {
    "name": "ipython",
    "version": 3
   },
   "file_extension": ".py",
   "mimetype": "text/x-python",
   "name": "python",
   "nbconvert_exporter": "python",
   "pygments_lexer": "ipython3",
   "version": "3.12.1"
  }
 },
 "nbformat": 4,
 "nbformat_minor": 2
}
