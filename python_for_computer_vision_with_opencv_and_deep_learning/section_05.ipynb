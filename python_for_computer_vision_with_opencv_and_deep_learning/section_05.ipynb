{
 "cells": [
  {
   "cell_type": "code",
   "execution_count": 42,
   "metadata": {},
   "outputs": [],
   "source": [
    "import cv2\n",
    "import numpy as np\n",
    "from PIL import ImageGrab"
   ]
  },
  {
   "cell_type": "markdown",
   "metadata": {},
   "source": [
    "## **1. Streaming Directly from Camera**"
   ]
  },
  {
   "cell_type": "code",
   "execution_count": 43,
   "metadata": {},
   "outputs": [],
   "source": [
    "cap = cv2.VideoCapture(0)\n",
    "\n",
    "width = int(cap.get(cv2.CAP_PROP_FRAME_WIDTH))\n",
    "height = int(cap.get(cv2.CAP_PROP_FRAME_HEIGHT))\n",
    "fps = int(cap.get(cv2.CAP_PROP_FPS))\n",
    "\n",
    "writer = cv2.VideoWriter(\"cap.mp4\", cv2.VideoWriter.fourcc(*\"mpv4\"), fps, (width, height))\n",
    "\n",
    "while True:\n",
    "    success, frame = cap.read()\n",
    "    if not success:\n",
    "        break\n",
    "\n",
    "    writer.write(frame)\n",
    "    cv2.imshow(\"Capture\", frame)\n",
    "\n",
    "    if cv2.waitKey(1) == ord(\"q\"):\n",
    "        break\n",
    "\n",
    "cap.release()\n",
    "writer.release()\n",
    "cv2.destroyAllWindows()"
   ]
  },
  {
   "cell_type": "markdown",
   "metadata": {},
   "source": [
    "## **2. Live Stream Drawing**"
   ]
  },
  {
   "cell_type": "code",
   "execution_count": 44,
   "metadata": {},
   "outputs": [],
   "source": [
    "def draw_rect_on_stream():\n",
    "    pt1, pt2 = (0, 0), (0, 0)\n",
    "    pt1_set, pt2_set = False, False\n",
    "\n",
    "    def mouse_callback(event, x, y, flags, param):\n",
    "        nonlocal pt1, pt2, pt1_set, pt2_set\n",
    "        if event == cv2.EVENT_LBUTTONDOWN:\n",
    "            if pt1_set and pt2_set:\n",
    "                pt1, pt2 = (0, 0), (0, 0)\n",
    "                pt1_set, pt2_set = False, False\n",
    "            if not pt1_set:\n",
    "                pt1 = (x, y)\n",
    "                pt1_set = True\n",
    "            elif not pt2_set:\n",
    "                pt2 = (x, y)\n",
    "                pt2_set = True\n",
    "\n",
    "    cap = cv2.VideoCapture(0)\n",
    "    winname = \"Capture\"\n",
    "\n",
    "    cv2.namedWindow(winname)\n",
    "    cv2.setMouseCallback(winname, mouse_callback)\n",
    "\n",
    "    while True:\n",
    "        success, frame = cap.read()\n",
    "        if not success:\n",
    "            break\n",
    "\n",
    "        if pt1_set and not pt2_set:\n",
    "            cv2.circle(frame, pt1, 2, (0, 255, 0), cv2.FILLED)\n",
    "        if pt1_set and pt2_set:\n",
    "            cv2.rectangle(frame, pt1, pt2, (0, 255, 0), 2)\n",
    "\n",
    "        cv2.imshow(winname, frame)\n",
    "\n",
    "        if cv2.waitKey(1) == ord(\"q\"):\n",
    "            break\n",
    "\n",
    "    cap.release()\n",
    "    cv2.destroyAllWindows()"
   ]
  },
  {
   "cell_type": "code",
   "execution_count": 45,
   "metadata": {},
   "outputs": [],
   "source": [
    "draw_rect_on_stream()"
   ]
  },
  {
   "cell_type": "markdown",
   "metadata": {},
   "source": [
    "## **3. Capture Screen Stream**"
   ]
  },
  {
   "cell_type": "code",
   "execution_count": 46,
   "metadata": {},
   "outputs": [],
   "source": [
    "x1, y1, x2, y2 = 100, 100, 400, 400\n",
    "\n",
    "while True:\n",
    "    img = ImageGrab.grab(bbox=(x1, y1, x2, y2))\n",
    "    img = np.asarray(img)\n",
    "    img = cv2.cvtColor(img, cv2.COLOR_RGB2BGR)\n",
    "\n",
    "    cv2.imshow(\"Capture\", img)\n",
    "\n",
    "    if cv2.waitKey(1) == ord(\"q\"):\n",
    "        break\n",
    "\n",
    "cap.release()\n",
    "cv2.destroyAllWindows()"
   ]
  }
 ],
 "metadata": {
  "kernelspec": {
   "display_name": "computer-vision-venv",
   "language": "python",
   "name": "python3"
  },
  "language_info": {
   "codemirror_mode": {
    "name": "ipython",
    "version": 3
   },
   "file_extension": ".py",
   "mimetype": "text/x-python",
   "name": "python",
   "nbconvert_exporter": "python",
   "pygments_lexer": "ipython3",
   "version": "3.12.1"
  }
 },
 "nbformat": 4,
 "nbformat_minor": 2
}
