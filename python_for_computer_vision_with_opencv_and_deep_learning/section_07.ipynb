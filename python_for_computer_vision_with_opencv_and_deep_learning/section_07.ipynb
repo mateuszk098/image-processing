{
 "cells": [
  {
   "cell_type": "code",
   "execution_count": 1,
   "metadata": {},
   "outputs": [],
   "source": [
    "import cv2\n",
    "import matplotlib.pyplot as plt\n",
    "import numpy as np"
   ]
  },
  {
   "cell_type": "markdown",
   "metadata": {},
   "source": [
    "## **1. Optical Flow**"
   ]
  },
  {
   "cell_type": "markdown",
   "metadata": {},
   "source": [
    "Optical flow is the pattern of apparent motion of image objects between two consecutive frames caused by the movement of object or camera. It is 2D vector field where each vector is a displacement vector showing the movement of points from first frame to second.\n",
    "\n",
    "Optical flow works on several assumptions:\n",
    "- The pixel intensities of an object do not change between consecutive frames.\n",
    "- Neighbouring pixels have similar motion."
   ]
  },
  {
   "cell_type": "code",
   "execution_count": 32,
   "metadata": {},
   "outputs": [],
   "source": [
    "from collections import defaultdict, deque\n",
    "from functools import partial\n",
    "\n",
    "corner_params = dict(\n",
    "    maxCorners=10,  # Number of corners to return\n",
    "    qualityLevel=0.3,  # Minimal accepted quality of image corners\n",
    "    minDistance=7,  # Minimum possible Euclidean distance between the returned corners\n",
    "    blockSize=7,  # Size of an average block for computing a derivative covariation matrix over each pixel neighborhood\n",
    ")\n",
    "lk_params = dict(\n",
    "    winSize=(15, 15),  # Size of the search window at each pyramid level\n",
    "    maxLevel=2,  # 0-based maximal pyramid level number\n",
    "    criteria=(cv2.TERM_CRITERIA_EPS | cv2.TERM_CRITERIA_COUNT, 10, 0.03),  # Termination criteria\n",
    ")\n",
    "\n",
    "cap = cv2.VideoCapture(0)\n",
    "ret, prev_frame = cap.read()\n",
    "\n",
    "prev_gray = cv2.cvtColor(prev_frame, cv2.COLOR_BGR2GRAY)\n",
    "prev_pts = cv2.goodFeaturesToTrack(prev_gray, **corner_params)  # type: ignore\n",
    "\n",
    "tracks = defaultdict(partial(deque, maxlen=100))\n",
    "\n",
    "while True:\n",
    "    ret, curr_frame = cap.read()\n",
    "    if not ret:\n",
    "        break\n",
    "\n",
    "    curr_gray = cv2.cvtColor(curr_frame, cv2.COLOR_BGR2GRAY)\n",
    "    curr_pts, status, err = cv2.calcOpticalFlowPyrLK(\n",
    "        prev_gray, curr_gray, prev_pts, None, **lk_params\n",
    "    )\n",
    "    curr_good = curr_pts[status == 1]\n",
    "    prev_good = prev_pts[status == 1]\n",
    "\n",
    "    for k, (curr, prev) in enumerate(zip(curr_good, prev_good)):\n",
    "        x0, y0 = prev.ravel().astype(np.int32)\n",
    "        x1, y1 = curr.ravel().astype(np.int32)\n",
    "        tracks[k].append((x1, y1))\n",
    "        pts = np.asarray(tracks[k], dtype=np.int32).reshape(-1, 1, 2)\n",
    "        cv2.polylines(curr_frame, [pts], isClosed=False, color=(0, 255, 0), thickness=2)\n",
    "        cv2.circle(curr_frame, (x1, y1), 5, (255, 0, 0), -1)\n",
    "\n",
    "    prev_gray = curr_gray.copy()\n",
    "    prev_pts = curr_good.reshape(-1, 1, 2)\n",
    "\n",
    "    cv2.imshow(\"Optical Flow\", curr_frame)\n",
    "    if cv2.waitKey(1) == ord(\"q\"):\n",
    "        break\n",
    "\n",
    "\n",
    "cap.release()\n",
    "cv2.destroyAllWindows()"
   ]
  }
 ],
 "metadata": {
  "kernelspec": {
   "display_name": "computer-vision-venv",
   "language": "python",
   "name": "python3"
  },
  "language_info": {
   "codemirror_mode": {
    "name": "ipython",
    "version": 3
   },
   "file_extension": ".py",
   "mimetype": "text/x-python",
   "name": "python",
   "nbconvert_exporter": "python",
   "pygments_lexer": "ipython3",
   "version": "3.12.1"
  }
 },
 "nbformat": 4,
 "nbformat_minor": 2
}
