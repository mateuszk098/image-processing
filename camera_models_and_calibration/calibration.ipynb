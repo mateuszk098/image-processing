{
 "cells": [
  {
   "cell_type": "code",
   "execution_count": 1,
   "metadata": {},
   "outputs": [],
   "source": [
    "from pathlib import Path\n",
    "\n",
    "import cv2 as cv\n",
    "import numpy as np"
   ]
  },
  {
   "cell_type": "markdown",
   "metadata": {},
   "source": [
    "### **1. Camera Calibration**"
   ]
  },
  {
   "cell_type": "code",
   "execution_count": 4,
   "metadata": {},
   "outputs": [],
   "source": [
    "def create_world_grid(pattern_shape, pattern_size_mm):\n",
    "    world_grid = np.indices((pattern_shape[0], pattern_shape[1])).transpose().reshape(-1, 2)\n",
    "    world_grid = np.hstack((world_grid, np.zeros((world_grid.shape[0], 1))))\n",
    "    world_grid = np.multiply(world_grid, pattern_size_mm).astype(np.float32)\n",
    "    return world_grid"
   ]
  },
  {
   "cell_type": "code",
   "execution_count": 5,
   "metadata": {},
   "outputs": [],
   "source": [
    "DEVICE = \"huawei\"\n",
    "IMAGES_DIR = Path(f\"./assets/calib/{DEVICE}/\")\n",
    "PATTERN_SHAPE = (10, 7)  # Inner corners.\n",
    "PATTERN_SIZE_MM = 25  # Size of the squares in mm.\n",
    "\n",
    "CORNER_SUB_PIX_CRITERIA = (cv.TERM_CRITERIA_EPS | cv.TERM_CRITERIA_MAX_ITER, 30, 0.001)\n",
    "CHESSBOARD_CORNERS_FLAGS = cv.CALIB_CB_ADAPTIVE_THRESH | cv.CALIB_CB_NORMALIZE_IMAGE\n",
    "\n",
    "world_grid = create_world_grid(PATTERN_SHAPE, PATTERN_SIZE_MM)"
   ]
  },
  {
   "cell_type": "code",
   "execution_count": 5,
   "metadata": {},
   "outputs": [
    {
     "name": "stdout",
     "output_type": "stream",
     "text": [
      "Found corners in IMG_20241019_160938.jpg: True\n",
      "Found corners in IMG_20241019_160941.jpg: True\n",
      "Found corners in IMG_20241019_160949.jpg: True\n",
      "Found corners in IMG_20241019_160956.jpg: True\n",
      "Found corners in IMG_20241019_161000.jpg: True\n",
      "Found corners in IMG_20241019_161006.jpg: True\n",
      "Found corners in IMG_20241019_161016.jpg: True\n",
      "Found corners in IMG_20241019_161025.jpg: True\n",
      "Found corners in IMG_20241019_161031.jpg: True\n",
      "Found corners in IMG_20241019_161040.jpg: True\n",
      "Found corners in IMG_20241019_161044.jpg: True\n",
      "RMS: 1.4471979412005531\n",
      "Camera Matrix:\n",
      " [[2.88819145e+03 0.00000000e+00 1.82453569e+03]\n",
      " [0.00000000e+00 2.89575255e+03 8.51835284e+02]\n",
      " [0.00000000e+00 0.00000000e+00 1.00000000e+00]]\n",
      "Distortion Coefficients:\n",
      " [[ 0.04925499 -0.04766288  0.          0.          0.        ]]\n"
     ]
    }
   ],
   "source": [
    "image_points = list()\n",
    "world_points = list()\n",
    "\n",
    "for image_path in IMAGES_DIR.glob(\"*.jpg\"):\n",
    "    image = cv.imread(str(image_path))\n",
    "    image_gray = cv.cvtColor(image, cv.COLOR_BGR2GRAY)\n",
    "    found, corners = cv.findChessboardCorners(image_gray, PATTERN_SHAPE, None, CHESSBOARD_CORNERS_FLAGS)\n",
    "    print(f\"Found corners in {image_path.name}: {found}\")\n",
    "\n",
    "    if found:\n",
    "        corners = cv.cornerSubPix(image_gray, corners, (11, 11), (-1, -1), CORNER_SUB_PIX_CRITERIA)\n",
    "        image_points.append(corners)\n",
    "        world_points.append(world_grid)\n",
    "        cv.drawChessboardCorners(image, PATTERN_SHAPE, corners, found)\n",
    "\n",
    "    cv.imshow(\"Chessboard\", image)\n",
    "    cv.waitKey(1000)\n",
    "\n",
    "cv.destroyAllWindows()\n",
    "\n",
    "rms, camera_matrix, dist_coefs, rvecs, tvecs = cv.calibrateCamera(\n",
    "    objectPoints=world_points,\n",
    "    imagePoints=image_points,\n",
    "    imageSize=image_gray.shape[::-1],\n",
    "    cameraMatrix=None,  # type: ignore\n",
    "    distCoeffs=None,  # type: ignore\n",
    "    flags=cv.CALIB_FIX_K3 | cv.CALIB_FIX_TANGENT_DIST,\n",
    ")\n",
    "\n",
    "np.savetxt(f\"./assets/{DEVICE}_camera_matrix.txt\", camera_matrix, fmt=\"%f\")\n",
    "np.savetxt(f\"./assets/{DEVICE}_dist_coeffs.txt\", dist_coefs, fmt=\"%f\")\n",
    "\n",
    "print(f\"RMS: {rms}\")\n",
    "print(f\"Camera Matrix:\\n {camera_matrix}\")\n",
    "print(f\"Distortion Coefficients:\\n {dist_coefs}\")"
   ]
  },
  {
   "cell_type": "markdown",
   "metadata": {},
   "source": [
    "### **2. Camera Pose Tracking**"
   ]
  },
  {
   "cell_type": "code",
   "execution_count": 6,
   "metadata": {},
   "outputs": [],
   "source": [
    "cap = cv.VideoCapture(0)\n",
    "camera_matrix = np.loadtxt(\"./assets/predator_camera_matrix.txt\")\n",
    "dist_coefs = np.loadtxt(\"./assets/predator_dist_coeffs.txt\")\n",
    "\n",
    "cube_size = 2 * PATTERN_SIZE_MM\n",
    "cube3D = np.array(\n",
    "    [\n",
    "        [0, 0, 0],  # Corner 1 (origin)\n",
    "        [cube_size, 0, 0],  # Corner 2\n",
    "        [cube_size, cube_size, 0],  # Corner 3\n",
    "        [0, cube_size, 0],  # Corner 4\n",
    "        [0, 0, -cube_size],  # Corner 5\n",
    "        [cube_size, 0, -cube_size],  # Corner 6\n",
    "        [cube_size, cube_size, -cube_size],  # Corner 7\n",
    "        [0, cube_size, -cube_size],  # Corner 8\n",
    "    ],\n",
    "    dtype=np.float32,\n",
    ")\n",
    "\n",
    "while True:\n",
    "    ret, frame = cap.read()\n",
    "    if not ret:\n",
    "        break\n",
    "\n",
    "    image = cv.cvtColor(frame, cv.COLOR_BGR2GRAY)\n",
    "    found, corners = cv.findChessboardCorners(image, PATTERN_SHAPE, None, CHESSBOARD_CORNERS_FLAGS)\n",
    "\n",
    "    if found:\n",
    "        corners = cv.cornerSubPix(image, corners, (11, 11), (-1, -1), CORNER_SUB_PIX_CRITERIA)\n",
    "        _, rvecs, tvecs = cv.solvePnP(\n",
    "            world_grid,\n",
    "            corners,\n",
    "            camera_matrix,\n",
    "            dist_coefs,\n",
    "            useExtrinsicGuess=False,\n",
    "            flags=cv.SOLVEPNP_IPPE,\n",
    "        )\n",
    "\n",
    "        cube2D, _ = cv.projectPoints(cube3D, rvecs, tvecs, camera_matrix, dist_coefs)\n",
    "        cube2D = cube2D.astype(np.intp).reshape(-1, 2)\n",
    "\n",
    "        cv.drawContours(frame, [cube2D[:4]], -1, (0, 0, 255), 2, cv.LINE_AA)  # Bottom face\n",
    "        cv.drawContours(frame, [cube2D[4:]], -1, (0, 255, 0), 2, cv.LINE_AA)  # Top face\n",
    "        for i in range(4):  # Sides.\n",
    "            cv.line(frame, tuple(cube2D[i]), tuple(cube2D[i + 4]), (255, 0, 0), 2, cv.LINE_AA)\n",
    "\n",
    "        # cv.drawFrameAxes(frame, camera_matrix, dist_coefs, rvecs, tvecs, PATTERN_SIZE_MM)\n",
    "\n",
    "    frame = cv.undistort(frame, camera_matrix, dist_coefs)\n",
    "\n",
    "    cv.imshow(\"Chessboard\", frame)\n",
    "    if cv.waitKey(1) == ord(\"q\"):\n",
    "        break\n",
    "\n",
    "cap.release()\n",
    "cv.destroyAllWindows()"
   ]
  }
 ],
 "metadata": {
  "kernelspec": {
   "display_name": "image-processing-venv",
   "language": "python",
   "name": "python3"
  },
  "language_info": {
   "codemirror_mode": {
    "name": "ipython",
    "version": 3
   },
   "file_extension": ".py",
   "mimetype": "text/x-python",
   "name": "python",
   "nbconvert_exporter": "python",
   "pygments_lexer": "ipython3",
   "version": "3.12.1"
  }
 },
 "nbformat": 4,
 "nbformat_minor": 2
}
