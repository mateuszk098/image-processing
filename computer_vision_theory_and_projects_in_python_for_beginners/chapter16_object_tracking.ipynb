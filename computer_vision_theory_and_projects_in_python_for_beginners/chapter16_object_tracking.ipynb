{
 "cells": [
  {
   "cell_type": "code",
   "execution_count": 11,
   "metadata": {},
   "outputs": [],
   "source": [
    "import cv2\n",
    "import imutils"
   ]
  },
  {
   "cell_type": "markdown",
   "metadata": {},
   "source": [
    "### Single Object Tracking"
   ]
  },
  {
   "cell_type": "code",
   "execution_count": 6,
   "metadata": {},
   "outputs": [],
   "source": [
    "video = cv2.VideoCapture(\"videos/mot.mp4\")\n",
    "ret, frame = video.read()\n",
    "\n",
    "cv2.imshow(\"Frame\", frame)\n",
    "bbox = cv2.selectROI(\"Frame\", frame)  # Select and click enter\n",
    "\n",
    "tracker = cv2.TrackerCSRT.create()\n",
    "tracker.init(frame, bbox)\n",
    "\n",
    "while True:\n",
    "    ret, frame = video.read()\n",
    "    if not ret:\n",
    "        break\n",
    "\n",
    "    success, box = tracker.update(frame)\n",
    "    if success:\n",
    "        x, y, w, h = (int(v) for v in box)\n",
    "        cv2.rectangle(frame, (x, y), (x + w, y + h), (0, 255, 0), 2)\n",
    "\n",
    "    cv2.imshow(\"Frame\", frame)\n",
    "    key = cv2.waitKey(1) & 0xFF\n",
    "    if key == ord(\"q\"):\n",
    "        break\n",
    "\n",
    "video.release()\n",
    "cv2.destroyAllWindows()"
   ]
  },
  {
   "cell_type": "markdown",
   "metadata": {},
   "source": [
    "### Multiple Object Tracking"
   ]
  },
  {
   "cell_type": "code",
   "execution_count": 10,
   "metadata": {},
   "outputs": [],
   "source": [
    "video = cv2.VideoCapture(\"videos/mot.mp4\")\n",
    "ret, frame = video.read()\n",
    "\n",
    "trackers = cv2.legacy.MultiTracker.create()\n",
    "\n",
    "k = 3\n",
    "for _ in range(k):\n",
    "    cv2.imshow(\"Frame\", frame)\n",
    "    bbox = cv2.selectROI(\"Frame\", frame)  # Select and click enter\n",
    "    tracker = cv2.legacy.TrackerCSRT.create()\n",
    "    trackers.add(tracker, frame, bbox)\n",
    "\n",
    "while True:\n",
    "    ret, frame = video.read()\n",
    "    if not ret:\n",
    "        break\n",
    "\n",
    "    success, boxes = trackers.update(frame)\n",
    "    if success:\n",
    "        for box in boxes:\n",
    "            x, y, w, h = (int(v) for v in box)\n",
    "            cv2.rectangle(frame, (x, y), (x + w, y + h), (0, 255, 0), 2)\n",
    "\n",
    "    cv2.imshow(\"Frame\", frame)\n",
    "    key = cv2.waitKey(1) & 0xFF\n",
    "    if key == ord(\"q\"):\n",
    "        break\n",
    "\n",
    "video.release()\n",
    "cv2.destroyAllWindows()"
   ]
  },
  {
   "cell_type": "markdown",
   "metadata": {},
   "source": [
    "### Webcam Tracking"
   ]
  },
  {
   "cell_type": "code",
   "execution_count": 15,
   "metadata": {},
   "outputs": [],
   "source": [
    "video = cv2.VideoCapture(0)  # Default camera is 0.\n",
    "ret, frame = video.read()\n",
    "\n",
    "frame = imutils.resize(frame, width=640)\n",
    "\n",
    "cv2.imshow(\"Frame\", frame)\n",
    "bbox = cv2.selectROI(\"Frame\", frame)  # Select and click enter\n",
    "\n",
    "tracker = cv2.TrackerCSRT.create()\n",
    "tracker.init(frame, bbox)\n",
    "\n",
    "while True:\n",
    "    ret, frame = video.read()\n",
    "    if not ret:\n",
    "        break\n",
    "    \n",
    "    frame = imutils.resize(frame, width=640)\n",
    "    success, box = tracker.update(frame)\n",
    "    if success:\n",
    "        x, y, w, h = (int(v) for v in box)\n",
    "        cv2.rectangle(frame, (x, y), (x + w, y + h), (0, 255, 0), 2)\n",
    "\n",
    "    cv2.imshow(\"Frame\", frame)\n",
    "    key = cv2.waitKey(1) & 0xFF\n",
    "    if key == ord(\"q\"):\n",
    "        break\n",
    "\n",
    "video.release()\n",
    "cv2.destroyAllWindows()"
   ]
  }
 ],
 "metadata": {
  "kernelspec": {
   "display_name": "computer-vision-venv",
   "language": "python",
   "name": "python3"
  },
  "language_info": {
   "codemirror_mode": {
    "name": "ipython",
    "version": 3
   },
   "file_extension": ".py",
   "mimetype": "text/x-python",
   "name": "python",
   "nbconvert_exporter": "python",
   "pygments_lexer": "ipython3",
   "version": "3.11.6"
  }
 },
 "nbformat": 4,
 "nbformat_minor": 2
}
